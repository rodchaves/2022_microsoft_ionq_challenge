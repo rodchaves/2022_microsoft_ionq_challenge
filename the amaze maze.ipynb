{
  "cells": [
    {
      "cell_type": "code",
      "execution_count": 46,
      "metadata": {},
      "outputs": [],
      "source": [
        "from qiskit import QuantumCircuit\n",
        "#from qiskit.visualization import plot_histogram\n",
        "from qiskit.tools.monitor import job_monitor\n",
        "from azure.quantum.qiskit import AzureQuantumProvider\n",
        "#from qiskit.tools.visualization import circuit_drawer\n",
        "\n",
        "import numpy as np\n",
        "import random"
      ]
    },
    {
      "cell_type": "code",
      "execution_count": 47,
      "metadata": {
        "jupyter": {
          "outputs_hidden": false,
          "source_hidden": false
        },
        "nteract": {
          "transient": {
            "deleting": false
          }
        }
      },
      "outputs": [],
      "source": [
        "from azure.quantum import Workspace\n",
        "workspace = Workspace (\n",
        "    subscription_id = \"b1d7f7f8-743f-458e-b3a0-3e09734d716d\",\n",
        "    resource_group = \"aq-hackathons\",\n",
        "    name = \"aq-hackathon-01\",\n",
        "    location = \"eastus\"\n",
        ")"
      ]
    },
    {
      "cell_type": "code",
      "execution_count": 48,
      "metadata": {
        "jupyter": {
          "outputs_hidden": false,
          "source_hidden": false
        },
        "nteract": {
          "transient": {
            "deleting": false
          }
        }
      },
      "outputs": [],
      "source": [
        "from azure.quantum.qiskit import AzureQuantumProvider\n",
        "provider = AzureQuantumProvider (\n",
        "    resource_id = \"/subscriptions/b1d7f7f8-743f-458e-b3a0-3e09734d716d/resourceGroups/aq-hackathons/providers/Microsoft.Quantum/Workspaces/aq-hackathon-01\",\n",
        "    location = \"eastus\"\n",
        ")"
      ]
    },
    {
      "cell_type": "code",
      "execution_count": 49,
      "metadata": {
        "jupyter": {
          "outputs_hidden": false,
          "source_hidden": false
        },
        "nteract": {
          "transient": {
            "deleting": false
          }
        }
      },
      "outputs": [],
      "source": [
        "def random_sequence(stages):\n",
        "    option_1 = np.random.randint(len(gates), size=stages)\n",
        "    option_2 = np.random.randint(len(gates), size=stages)\n",
        "    option_2[option_2==option_1] = np.random.randint(len(gates), size=len(option_2[option_2==option_1]))\n",
        "    return option_1,option_2\n",
        "\n",
        "def gate_sequences( sequence ):\n",
        "    gate_sequence = [ number2gate[k] for k in sequence ] #[ gates_dic[number2gate_dic[k]] for k in sequence ]\n",
        "    return gate_sequence\n",
        "\n",
        "def qubits4gate( gate ):\n",
        "    if gate in one_qubit_gates:\n",
        "        return np.random.randint(number_qubits, size=1)\n",
        "    else:\n",
        "        return random.sample(range(number_qubits), 2) #this guarantees different qubits for the control gates\n",
        "\n",
        "def entanglement_proxi(probs):\n",
        "    aux = np.ones(int(np.power(2,number_qubits)))/np.power(2,number_qubits)\n",
        "\n",
        "    for i,key in enumerate(probs):\n",
        "        #print(key,probs[key],i)\n",
        "        aux[i] = aux[i]-probs[key]\n",
        "    aux = np.sum(np.absolute(aux))/1.875\n",
        "    score = 100*(1-aux)\n",
        "    return score "
      ]
    },
    {
      "cell_type": "code",
      "execution_count": 50,
      "metadata": {
        "jupyter": {
          "outputs_hidden": false,
          "source_hidden": false
        },
        "nteract": {
          "transient": {
            "deleting": false
          }
        }
      },
      "outputs": [],
      "source": [
        "stages = 5\n",
        "number_qubits = 4\n",
        "number_bits = 3"
      ]
    },
    {
      "cell_type": "code",
      "execution_count": 51,
      "metadata": {},
      "outputs": [],
      "source": [
        "max_score = 0\n",
        "winner = 'No one'\n",
        "def play_game(max_score, winner, backend='simulator'):\n",
        "\n",
        "    circuit = QuantumCircuit(number_qubits,number_qubits)\n",
        "\n",
        "    gates = {'X': circuit.x, \n",
        "            'Y': circuit.y, \n",
        "            'Z': circuit.z, \n",
        "            'Hadamard': circuit.h,\n",
        "            'CNOT': circuit.cnot, \n",
        "            'Swap': circuit.swap, \n",
        "            'CHadamard': circuit.ch,\n",
        "            'CX':circuit.cx,\n",
        "            'CY':circuit.cy,\n",
        "            'CZ':circuit.cz}\n",
        "\n",
        "    number2gate = {k:key for (k,key) in zip(range(0,len(gates)),list(gates.keys()))}\n",
        "\n",
        "    one_qubit_gates = ['X', 'Y', 'Z', 'Hadamard']\n",
        "\n",
        "    option1,option2 = random_sequence(stages)\n",
        "    option1 = gate_sequences(option1)\n",
        "    option2 = gate_sequences(option2)\n",
        "\n",
        "    qubits_option1 = [qubits4gate(gate) for gate in option1]\n",
        "    qubits_option2 = [qubits4gate(gate) for gate in option2]\n",
        "\n",
        "    choices = {'a':[option1,qubits_option1] , 'b':[option2,qubits_option2]}\n",
        "\n",
        "    chosen_gates = []\n",
        "    arguments = []\n",
        "    measurement = [i for i in range(number_qubits)]\n",
        "\n",
        "    print('Welcome to the Amaze Maze. The goal of the game is to entangle your qubits as much as possible!')\n",
        "    print('Remember you start in the qubit |0000>')\n",
        "    for i in range(stages):\n",
        "        print(\"This is stage {0} out of {1}\".format(i+1, stages))\n",
        "        print('Your options are:')\n",
        "        print('Apply a) the {0} gate on qubit(s): {1} or b) the {2} gate on qubit(s): {3}'.format(option1[i], qubits_option1[i],option2[i],qubits_option2[i]))\n",
        "        choice = input('Choose a or b: ')\n",
        "        chosen_gates.append(choices[choice][0][i])\n",
        "        arguments.append(choices[choice][1][i])\n",
        "\n",
        "        gate = gates[chosen_gates[i]]\n",
        "        if chosen_gates[i] in one_qubit_gates:\n",
        "            q1 = arguments[i][0]\n",
        "            gate(q1)\n",
        "        else:\n",
        "            q1 = arguments[i][0]\n",
        "            q2 = arguments[i][1]\n",
        "            gate(q1,q2)\n",
        "\n",
        "    circuit.measure(measurement, measurement)\n",
        "    \n",
        "    if backend=='simulator':\n",
        "        simulator_backend = provider.get_backend(\"ionq.simulator\")\n",
        "        job = simulator_backend.run(circuit, shots=100)\n",
        "\n",
        "    if backend=='qpu':\n",
        "        qpu_backend = provider.get_backend(\"ionq.qpu\")\n",
        "        job = qpu_backend.run(circuit, shots=1024)\n",
        "\n",
        "    job_monitor(job)\n",
        "    result = job.result()\n",
        "    #print(result)\n",
        "\n",
        "    probs = result.data()['probabilities']\n",
        "    score = entanglement_proxi(probs)\n",
        "    print('Your score is: {0}'.format(score))\n",
        "    if score > max_score: \n",
        "        max_score = score\n",
        "        winner = input('Write your name: ')\n",
        "    print('The record is: {0} and its held by {1}'.format(score, winner))\n",
        "    return(max_score, winner, circuit)"
      ]
    },
    {
      "cell_type": "code",
      "execution_count": 52,
      "metadata": {},
      "outputs": [
        {
          "name": "stdout",
          "output_type": "stream",
          "text": [
            "Welcome to the Amaze Maze. The goal of the game is to entangle your qubits as much as possible!\n",
            "Remember you start in the qubit |0000>\n",
            "This is stage 1 out of 5\n",
            "Your options are:\n",
            "Apply a) the CX gate on qubit(s): [3, 0] or b) the CHadamard gate on qubit(s): [0, 3]\n",
            "This is stage 2 out of 5\n",
            "Your options are:\n",
            "Apply a) the Y gate on qubit(s): [0] or b) the CZ gate on qubit(s): [2, 0]\n",
            "This is stage 3 out of 5\n",
            "Your options are:\n",
            "Apply a) the CNOT gate on qubit(s): [0, 2] or b) the CX gate on qubit(s): [3, 1]\n",
            "This is stage 4 out of 5\n",
            "Your options are:\n",
            "Apply a) the CX gate on qubit(s): [1, 0] or b) the Swap gate on qubit(s): [1, 0]\n",
            "This is stage 5 out of 5\n",
            "Your options are:\n",
            "Apply a) the CY gate on qubit(s): [3, 1] or b) the Z gate on qubit(s): [0]\n",
            "Job Status: job has successfully run\n",
            "Your score is: 0.0864583333333333\n",
            "The record is: 0.0864583333333333 and its held by Braulio\n",
            "Your quantum circuit through the maze is: \n"
          ]
        },
        {
          "data": {
            "text/html": [
              "<pre style=\"word-wrap: normal;white-space: pre;background: #fff0;line-height: 1.1;font-family: &quot;Courier New&quot;,Courier,monospace\">     ┌───┐┌───┐     ┌───┐┌───┐┌─┐\n",
              "q_0: ┤ X ├┤ Y ├─────┤ X ├┤ Z ├┤M├\n",
              "     └─┬─┘└───┘┌───┐└─┬─┘└┬─┬┘└╥┘\n",
              "q_1: ──┼───────┤ X ├──■───┤M├──╫─\n",
              "       │   ┌─┐ └─┬─┘      └╥┘  ║ \n",
              "q_2: ──┼───┤M├───┼─────────╫───╫─\n",
              "       │   └╥┘   │   ┌─┐   ║   ║ \n",
              "q_3: ──■────╫────■───┤M├───╫───╫─\n",
              "            ║        └╥┘   ║   ║ \n",
              "c: 4/═══════╩═════════╩════╩═══╩═\n",
              "            2         3    1   0 </pre>"
            ],
            "text/plain": [
              "     ┌───┐┌───┐     ┌───┐┌───┐┌─┐\n",
              "q_0: ┤ X ├┤ Y ├─────┤ X ├┤ Z ├┤M├\n",
              "     └─┬─┘└───┘┌───┐└─┬─┘└┬─┬┘└╥┘\n",
              "q_1: ──┼───────┤ X ├──■───┤M├──╫─\n",
              "       │   ┌─┐ └─┬─┘      └╥┘  ║ \n",
              "q_2: ──┼───┤M├───┼─────────╫───╫─\n",
              "       │   └╥┘   │   ┌─┐   ║   ║ \n",
              "q_3: ──■────╫────■───┤M├───╫───╫─\n",
              "            ║        └╥┘   ║   ║ \n",
              "c: 4/═══════╩═════════╩════╩═══╩═\n",
              "            2         3    1   0 "
            ]
          },
          "execution_count": 52,
          "metadata": {},
          "output_type": "execute_result"
        }
      ],
      "source": [
        "max_score, winner, circuit = play_game(max_score, winner, 'qpu')\n",
        "print('Your quantum circuit through the maze is: ')\n",
        "circuit.draw()"
      ]
    },
    {
      "cell_type": "code",
      "execution_count": null,
      "metadata": {},
      "outputs": [],
      "source": []
    },
    {
      "cell_type": "code",
      "execution_count": null,
      "metadata": {},
      "outputs": [],
      "source": []
    },
    {
      "cell_type": "code",
      "execution_count": null,
      "metadata": {},
      "outputs": [],
      "source": []
    },
    {
      "cell_type": "code",
      "execution_count": null,
      "metadata": {},
      "outputs": [],
      "source": []
    }
  ],
  "metadata": {
    "kernel_info": {
      "name": "python3"
    },
    "kernelspec": {
      "display_name": "Python 3 (ipykernel)",
      "language": "python",
      "name": "python3"
    },
    "language_info": {
      "codemirror_mode": {
        "name": "ipython",
        "version": 3
      },
      "file_extension": ".py",
      "mimetype": "text/x-python",
      "name": "python",
      "nbconvert_exporter": "python",
      "pygments_lexer": "ipython3",
      "version": "3.9.7"
    },
    "nteract": {
      "version": "nteract-front-end@1.0.0"
    }
  },
  "nbformat": 4,
  "nbformat_minor": 0
}
